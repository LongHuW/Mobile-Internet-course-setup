{
 "cells": [
  {
   "cell_type": "code",
   "execution_count": null,
   "metadata": {},
   "outputs": [],
   "source": [
    "import lightgbm as lgbm\n",
    "import pandas as pd\n",
    "import numpy as np\n",
    "from sklearn.model_selection import train_test_split\n",
    "import joblib"
   ]
  },
  {
   "cell_type": "code",
   "execution_count": null,
   "metadata": {},
   "outputs": [],
   "source": [
    "params={}\n",
    "params['data_path']=r'E:\\文件夹\\大三下\\移动互联网课设\\大作业\\训练\\feature\\time+fre.csv'\n",
    "params['model_path']=r'E:\\文件夹\\大三下\\移动互联网课设\\大作业\\time+fre_lgb.model'\n",
    "re_data=pd.read_csv(params['data_path'],keep_default_na=False)##后面这个参数可以解决空值带来的问题\n",
    "data = np.array(re_data)\n",
    "data_x = data[:, :-1]\n",
    "data_y=data[:,-1]#获取文件标签"
   ]
  },
  {
   "cell_type": "code",
   "execution_count": null,
   "metadata": {},
   "outputs": [],
   "source": [
    "params = {'boosting_type': 'gbdt',\n",
    "          'objective': 'multiclass',\n",
    "          'nthread': -1,\n",
    "          'silent': True,#是否打印信息，默认False\n",
    "          'learning_rate': 0.1,\n",
    "          'num_leaves': 80,\n",
    "          'max_depth': 5,\n",
    "          'max_bin': 127,\n",
    "          'subsample_for_bin': 50000,\n",
    "          'subsample': 0.8,\n",
    "          'subsample_freq': 1,\n",
    "          'colsample_bytree': 0.8,\n",
    "          'reg_alpha': 1,\n",
    "          'reg_lambda': 0,\n",
    "          'min_split_gain': 0.0,\n",
    "          'min_child_weight': 1,\n",
    "          'min_child_samples': 20,\n",
    "          'scale_pos_weight': 1}\n",
    "lgbm1 = lgbm.sklearn.LGBMClassifier(num_class=4 , n_estimators=282 , seed=0 , **params)\n",
    "lgbm1.fit(data_x ,data_y)\n",
    "joblib.dump(lgbm1,params['model_path'])"
   ]
  }
 ],
 "metadata": {
  "kernelspec": {
   "display_name": "Python 3",
   "language": "python",
   "name": "python3"
  },
  "language_info": {
   "codemirror_mode": {
    "name": "ipython",
    "version": 3
   },
   "file_extension": ".py",
   "mimetype": "text/x-python",
   "name": "python",
   "nbconvert_exporter": "python",
   "pygments_lexer": "ipython3",
   "version": "3.6.9"
  }
 },
 "nbformat": 4,
 "nbformat_minor": 2
}
