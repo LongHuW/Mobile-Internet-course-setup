{
 "cells": [
  {
   "cell_type": "code",
   "execution_count": 1,
   "metadata": {},
   "outputs": [],
   "source": [
    "###创建保存模型\n",
    "import numpy as np\n",
    "import pandas as pd\n",
    "import joblib\n",
    "\n",
    "params = {}\n",
    "###特征提取文件夹路径\n",
    "params['feature_path']=r'E:\\文件夹\\大三下\\移动互联网课设\\大作业\\CWRU0319\\feature'\n",
    "###特征提取方法，默认time_fre时频域特征提取\n",
    "params['feature']=r'\\time_fre'\n",
    "###存储model文件的文件夹路径\n",
    "params['model_path']=r'E:\\文件夹\\大三下\\移动互联网课设\\大作业\\model'"
   ]
  },
  {
   "cell_type": "code",
   "execution_count": 2,
   "metadata": {},
   "outputs": [],
   "source": [
    "params['train_data_path'] =params['feature_path']+params['feature']+'.csv'\n",
    "params['RF_model_path']=params['model_path']+params['feature']+'_RF.model'\n",
    "# params['GBDT_model_path']=params['model_path']+params['feature_path']+'_GBDT.model'\n",
    "# params['SVM_model_path']=params['model_path']+params['feature_path']+'_SVM.model'\n",
    "# params['AdaB_model_path']=params['model_path']+params['feature_path']+'_AdaB.model'\n",
    "\n",
    "###获取经过数据预处理和特征提取后的数据\n",
    "train = np.array(pd.read_csv(params['train_data_path'],keep_default_na=False))\n",
    "train_y=train[:,-1]\n",
    "train_x = train[:, :-1]"
   ]
  },
  {
   "cell_type": "code",
   "execution_count": 3,
   "metadata": {},
   "outputs": [
    {
     "data": {
      "text/plain": [
       "['E:\\\\文件夹\\\\大三下\\\\移动互联网课设\\\\大作业\\\\model\\\\time_fre_RF.model']"
      ]
     },
     "execution_count": 3,
     "metadata": {},
     "output_type": "execute_result"
    }
   ],
   "source": [
    "####RF算法\n",
    "from sklearn.ensemble import RandomForestClassifier\n",
    "params['n_estimators'] = 100\n",
    "params['max_depth'] = 11\n",
    "params['max_features'] = 3\n",
    "params['min_samples_split'] = 70\n",
    "params['min_samples_leaf'] = 10\n",
    "# params['n_estimators'] = 100\n",
    "# params['max_depth'] = None\n",
    "# params['max_features'] = \"auto\"\n",
    "# params['min_samples_split'] = 2\n",
    "# params['min_samples_leaf'] = 1\n",
    "#模型构建训练\n",
    "clf = RandomForestClassifier(n_estimators=params['n_estimators'],\n",
    "                         max_features=params['max_features'],\n",
    "                         max_depth=params['max_depth'],\n",
    "                         min_samples_split=params['min_samples_split'],\n",
    "                         min_samples_leaf=params['min_samples_leaf'],\n",
    "                         oob_score=True,\n",
    "                         random_state=100).fit(train_x, train_y)\n",
    "#save model\n",
    "joblib.dump(clf,params['RF_model_path'])"
   ]
  },
  {
   "cell_type": "code",
   "execution_count": null,
   "metadata": {},
   "outputs": [],
   "source": []
  }
 ],
 "metadata": {
  "kernelspec": {
   "display_name": "Python 3",
   "language": "python",
   "name": "python3"
  },
  "language_info": {
   "codemirror_mode": {
    "name": "ipython",
    "version": 3
   },
   "file_extension": ".py",
   "mimetype": "text/x-python",
   "name": "python",
   "nbconvert_exporter": "python",
   "pygments_lexer": "ipython3",
   "version": "3.6.9"
  }
 },
 "nbformat": 4,
 "nbformat_minor": 2
}
